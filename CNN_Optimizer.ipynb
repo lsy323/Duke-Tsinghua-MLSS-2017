{
 "cells": [
  {
   "cell_type": "code",
   "execution_count": 1,
   "metadata": {},
   "outputs": [
    {
     "name": "stdout",
     "output_type": "stream",
     "text": [
      "Extracting MNIST_data/train-images-idx3-ubyte.gz\n",
      "Extracting MNIST_data/train-labels-idx1-ubyte.gz\n",
      "Extracting MNIST_data/t10k-images-idx3-ubyte.gz\n",
      "Extracting MNIST_data/t10k-labels-idx1-ubyte.gz\n"
     ]
    }
   ],
   "source": [
    "%matplotlib inline\n",
    "\n",
    "import numpy as np\n",
    "import matplotlib.pyplot as plt\n",
    "import tensorflow as tf\n",
    "from tensorflow.examples.tutorials.mnist import input_data\n",
    "\n",
    "# Import data\n",
    "mnist = input_data.read_data_sets(\"MNIST_data/\", one_hot=True)"
   ]
  },
  {
   "cell_type": "code",
   "execution_count": 2,
   "metadata": {
    "collapsed": true
   },
   "outputs": [],
   "source": [
    "# Helper functions for creating weight variables\n",
    "def weight_variable(shape):\n",
    "    \"\"\"weight_variable generates a weight variable of a given shape.\"\"\"\n",
    "    initial = tf.truncated_normal(shape, stddev=0.1)\n",
    "    return tf.Variable(initial)\n",
    "\n",
    "def bias_variable(shape):\n",
    "    \"\"\"bias_variable generates a bias variable of a given shape.\"\"\"\n",
    "    initial = tf.constant(0.1, shape=shape)\n",
    "    return tf.Variable(initial)"
   ]
  },
  {
   "cell_type": "code",
   "execution_count": 3,
   "metadata": {
    "collapsed": true
   },
   "outputs": [],
   "source": [
    "# Convolutional neural network functions\n",
    "def conv2d(x, W):\n",
    "    \"\"\"conv2d returns a 2d convolution layer with full stride.\"\"\"\n",
    "    return tf.nn.conv2d(x, W, strides=[1, 1, 1, 1], padding='SAME')\n",
    "\n",
    "def max_pool_2x2(x):\n",
    "    \"\"\"max_pool_2x2 downsamples a feature map by 2X.\"\"\"\n",
    "    return tf.nn.max_pool(x, ksize=[1, 2, 2, 1], strides=[1, 2, 2, 1], padding='SAME')"
   ]
  },
  {
   "cell_type": "code",
   "execution_count": 4,
   "metadata": {
    "collapsed": true
   },
   "outputs": [],
   "source": [
    "# Model Inputs\n",
    "x = tf.placeholder(tf.float32, [None, 784])### MNIST images enter graph here ###\n",
    "y_ = tf.placeholder(tf.float32, [None, 10])### MNIST labels enter graph here ###\n",
    "\n",
    "# Define the graph\n",
    "x_2d = tf.reshape(x,[-1,28,28,1])\n",
    "#[filter_height, filter_width, in_channels, out_channels]\n",
    "W_conv1 = weight_variable([5, 5, 1, 32])\n",
    "b_conv1 = bias_variable([32])\n",
    "conv1_out = conv2d(x_2d,W_conv1) + b_conv1\n",
    "relu1_out = tf.nn.relu(conv1_out)\n",
    "pool1_out = max_pool_2x2(relu1_out)\n",
    "W_conv2 = weight_variable([5,5,32,64])\n",
    "b_conv2 = bias_variable([64])\n",
    "conv2_out =conv2d(pool1_out,W_conv2) + b_conv2\n",
    "relu2_out = tf.nn.relu(conv2_out)\n",
    "pool2_out = max_pool_2x2(relu2_out)\n",
    "#flatten for the FC layer\n",
    "fc1_in = tf.reshape(pool2_out,[-1,64*49])\n",
    "W_fc1 = weight_variable([64*49,1024])\n",
    "b_fc1 = bias_variable([1024])\n",
    "fc1_out = tf.nn.relu(tf.matmul(fc1_in,W_fc1) + b_fc1)\n",
    "W_fc2 = weight_variable([1024,10])\n",
    "b_fc2 = bias_variable([10])\n",
    "fc2_out = tf.matmul(fc1_out,W_fc2) + b_fc2\n",
    "y_conv = fc2_out\n",
    "\n",
    "# Loss\n",
    "cross_entropy = tf.reduce_mean(tf.nn.softmax_cross_entropy_with_logits(labels=y_, logits=y_conv))\n",
    "\n",
    "# Evaluation\n",
    "correct_prediction = tf.equal(tf.argmax(y_conv, 1), tf.argmax(y_, 1))\n",
    "accuracy = tf.reduce_mean(tf.cast(correct_prediction, tf.float32))"
   ]
  },
  {
   "cell_type": "code",
   "execution_count": 15,
   "metadata": {},
   "outputs": [],
   "source": [
    "# Optimizers: Try out a few different parameters for SGD and SGD momentum\n",
    "train_step_SGD = tf.train.GradientDescentOptimizer(learning_rate=0.001).minimize(cross_entropy)\n",
    "train_step_momentum = tf.train.MomentumOptimizer(learning_rate=0.001, momentum=0.9).minimize(cross_entropy)\n",
    "train_step_ADAM = tf.train.AdamOptimizer().minimize(cross_entropy)\n",
    "\n",
    "# Op for initializing all variables\n",
    "initialize_all = tf.global_variables_initializer()"
   ]
  },
  {
   "cell_type": "code",
   "execution_count": 16,
   "metadata": {
    "collapsed": true
   },
   "outputs": [],
   "source": [
    "def train_CNN(train_step_optimizer, iterations=4000):\n",
    "    with tf.Session() as sess:\n",
    "        # Initialize (or reset) all variables\n",
    "        sess.run(initialize_all)\n",
    "        \n",
    "        # Initialize arrays to track losses and validation accuracies\n",
    "        valid_accs = [] \n",
    "        losses = []\n",
    "        \n",
    "        for i in range(iterations):\n",
    "            # Validate every 250th batch\n",
    "            if i % 250 == 0:\n",
    "                validation_accuracy = 0\n",
    "                for v in range(10):\n",
    "                    batch = mnist.validation.next_batch(50)\n",
    "                    validation_accuracy += (1/10) * accuracy.eval(feed_dict={x: batch[0], y_: batch[1]})\n",
    "                print('step %d, validation accuracy %g' % (i, validation_accuracy))\n",
    "                valid_accs.append(validation_accuracy)\n",
    "                \n",
    "            # Train    \n",
    "            batch = mnist.train.next_batch(50)\n",
    "            loss, _ = sess.run([cross_entropy, train_step_optimizer], feed_dict={x: batch[0], y_: batch[1]})\n",
    "            losses.append(loss)\n",
    "            \n",
    "        print('test accuracy %g' % accuracy.eval(feed_dict={x: mnist.test.images, y_: mnist.test.labels}))\n",
    "        \n",
    "    return valid_accs, losses"
   ]
  },
  {
   "cell_type": "code",
   "execution_count": 17,
   "metadata": {},
   "outputs": [
    {
     "name": "stdout",
     "output_type": "stream",
     "text": [
      "SGD:\n",
      "step 0, validation accuracy 0.092\n",
      "step 250, validation accuracy 0.788\n",
      "step 500, validation accuracy 0.876\n",
      "step 750, validation accuracy 0.886\n",
      "step 1000, validation accuracy 0.882\n",
      "step 1250, validation accuracy 0.924\n",
      "step 1500, validation accuracy 0.934\n",
      "step 1750, validation accuracy 0.942\n",
      "step 2000, validation accuracy 0.938\n",
      "step 2250, validation accuracy 0.94\n",
      "step 2500, validation accuracy 0.938\n",
      "step 2750, validation accuracy 0.934\n",
      "step 3000, validation accuracy 0.926\n",
      "step 3250, validation accuracy 0.934\n",
      "step 3500, validation accuracy 0.944\n",
      "step 3750, validation accuracy 0.944\n",
      "test accuracy 0.9518\n",
      "Momentum:\n",
      "step 0, validation accuracy 0.126\n",
      "step 250, validation accuracy 0.904\n",
      "step 500, validation accuracy 0.964\n",
      "step 750, validation accuracy 0.964\n",
      "step 1000, validation accuracy 0.952\n",
      "step 1250, validation accuracy 0.97\n",
      "step 1500, validation accuracy 0.982\n",
      "step 1750, validation accuracy 0.972\n",
      "step 2000, validation accuracy 0.97\n",
      "step 2250, validation accuracy 0.982\n",
      "step 2500, validation accuracy 0.976\n",
      "step 2750, validation accuracy 0.976\n",
      "step 3000, validation accuracy 0.972\n",
      "step 3250, validation accuracy 0.982\n",
      "step 3500, validation accuracy 0.972\n",
      "step 3750, validation accuracy 0.984\n",
      "test accuracy 0.9811\n",
      "ADAM:\n",
      "step 0, validation accuracy 0.092\n",
      "step 250, validation accuracy 0.978\n",
      "step 500, validation accuracy 0.972\n",
      "step 750, validation accuracy 0.992\n",
      "step 1000, validation accuracy 0.986\n",
      "step 1250, validation accuracy 0.98\n",
      "step 1500, validation accuracy 0.988\n",
      "step 1750, validation accuracy 0.982\n",
      "step 2000, validation accuracy 0.986\n",
      "step 2250, validation accuracy 0.986\n",
      "step 2500, validation accuracy 0.99\n",
      "step 2750, validation accuracy 0.988\n",
      "step 3000, validation accuracy 0.98\n",
      "step 3250, validation accuracy 0.998\n",
      "step 3500, validation accuracy 0.994\n",
      "step 3750, validation accuracy 0.984\n",
      "test accuracy 0.9873\n"
     ]
    }
   ],
   "source": [
    "print(\"SGD:\")\n",
    "valid_accs_SGD, losses_SGD = train_CNN(train_step_SGD)\n",
    "print(\"Momentum:\")\n",
    "valid_accs_momentum, losses_momentum = train_CNN(train_step_momentum)\n",
    "print(\"ADAM:\")\n",
    "valid_accs_ADAM, losses_ADAM = train_CNN(train_step_ADAM)"
   ]
  },
  {
   "cell_type": "code",
   "execution_count": 18,
   "metadata": {},
   "outputs": [
    {
     "data": {
      "text/plain": [
       "<matplotlib.legend.Legend at 0x151022f7c50>"
      ]
     },
     "execution_count": 18,
     "metadata": {},
     "output_type": "execute_result"
    },
    {
     "data": {
      "image/png": "[encoded data removed]",
      "text/plain": [
       "<matplotlib.figure.Figure at 0x151006b8128>"
      ]
     },
     "metadata": {},
     "output_type": "display_data"
    }
   ],
   "source": [
    "fig, ax = plt.subplots(1, 2)\n",
    "fig.tight_layout()\n",
    "\n",
    "ax[0].plot(valid_accs_SGD)\n",
    "ax[0].plot(valid_accs_momentum)\n",
    "ax[0].plot(valid_accs_ADAM)\n",
    "\n",
    "ax[0].set_ylabel('Validation Accuracy')\n",
    "ax[0].legend(['SGD', 'Momentum', 'ADAM'], loc='lower right')\n",
    "\n",
    "ax[1].plot(losses_SGD)\n",
    "ax[1].plot(losses_momentum)\n",
    "ax[1].plot(losses_ADAM)\n",
    "\n",
    "ax[1].set_ylabel('Cross Entropy')\n",
    "ax[1].legend(['SGD', 'Momentum', 'ADAM'], loc='upper right')\n",
    "# ax[1].set_ylim([0,1.5])  # <- Use this to change y-axis limits"
   ]
  },
  {
   "cell_type": "code",
   "execution_count": null,
   "metadata": {
    "collapsed": true
   },
   "outputs": [],
   "source": []
  }
 ],
 "metadata": {
  "kernelspec": {
   "display_name": "Python 3",
   "language": "python",
   "name": "python3"
  },
  "language_info": {
   "codemirror_mode": {
    "name": "ipython",
    "version": 3
   },
   "file_extension": ".py",
   "mimetype": "text/x-python",
   "name": "python",
   "nbconvert_exporter": "python",
   "pygments_lexer": "ipython3",
   "version": "3.6.2"
  }
 },
 "nbformat": 4,
 "nbformat_minor": 2
}
